{
 "cells": [
  {
   "cell_type": "code",
   "execution_count": 7,
   "id": "c4bf3cb2-3c28-466c-ba21-598cb4bed028",
   "metadata": {},
   "outputs": [],
   "source": [
    "import pandas as pd\n",
    "import numpy as np\n",
    "import matplotlib.pyplot as plt\n",
    "import seaborn as sns"
   ]
  },
  {
   "cell_type": "code",
   "execution_count": 11,
   "id": "b0f01701-8243-4f89-b9c2-3b413dcadb06",
   "metadata": {},
   "outputs": [],
   "source": [
    "df = pd.read_csv(\"netflix_new/netflix_titles.csv\")\n"
   ]
  },
  {
   "cell_type": "code",
   "execution_count": null,
   "id": "6c48f262-151d-4504-84eb-4a1428a7bfe1",
   "metadata": {},
   "outputs": [],
   "source": [
    "df = pd.read_csv(\"netflix_new/netflix_titles.csv\")"
   ]
  },
  {
   "cell_type": "code",
   "execution_count": 12,
   "id": "659e81a9-5d54-4cad-a8d9-a3603174bf09",
   "metadata": {},
   "outputs": [
    {
     "name": "stdout",
     "output_type": "stream",
     "text": [
      "  show_id     type                  title         director  \\\n",
      "0      s1    Movie   Dick Johnson Is Dead  Kirsten Johnson   \n",
      "1      s2  TV Show          Blood & Water              NaN   \n",
      "2      s3  TV Show              Ganglands  Julien Leclercq   \n",
      "3      s4  TV Show  Jailbirds New Orleans              NaN   \n",
      "4      s5  TV Show           Kota Factory              NaN   \n",
      "\n",
      "                                                cast        country  \\\n",
      "0                                                NaN  United States   \n",
      "1  Ama Qamata, Khosi Ngema, Gail Mabalane, Thaban...   South Africa   \n",
      "2  Sami Bouajila, Tracy Gotoas, Samuel Jouy, Nabi...            NaN   \n",
      "3                                                NaN            NaN   \n",
      "4  Mayur More, Jitendra Kumar, Ranjan Raj, Alam K...          India   \n",
      "\n",
      "           date_added  release_year rating   duration  \\\n",
      "0  September 25, 2021          2020  PG-13     90 min   \n",
      "1  September 24, 2021          2021  TV-MA  2 Seasons   \n",
      "2  September 24, 2021          2021  TV-MA   1 Season   \n",
      "3  September 24, 2021          2021  TV-MA   1 Season   \n",
      "4  September 24, 2021          2021  TV-MA  2 Seasons   \n",
      "\n",
      "                                           listed_in  \\\n",
      "0                                      Documentaries   \n",
      "1    International TV Shows, TV Dramas, TV Mysteries   \n",
      "2  Crime TV Shows, International TV Shows, TV Act...   \n",
      "3                             Docuseries, Reality TV   \n",
      "4  International TV Shows, Romantic TV Shows, TV ...   \n",
      "\n",
      "                                         description  \n",
      "0  As her father nears the end of his life, filmm...  \n",
      "1  After crossing paths at a party, a Cape Town t...  \n",
      "2  To protect his family from a powerful drug lor...  \n",
      "3  Feuds, flirtations and toilet talk go down amo...  \n",
      "4  In a city of coaching centers known to train I...  \n"
     ]
    }
   ],
   "source": [
    "print(df.head(5))"
   ]
  },
  {
   "cell_type": "code",
   "execution_count": 13,
   "id": "c4b4de08-ad93-43f3-97d1-1a5f7e3830b5",
   "metadata": {},
   "outputs": [],
   "source": [
    "pd.set_option('display.max_colwidth', None)"
   ]
  },
  {
   "cell_type": "code",
   "execution_count": 15,
   "id": "39a01534-7e9d-4726-8cb4-9bf7f4e26312",
   "metadata": {},
   "outputs": [
    {
     "name": "stdout",
     "output_type": "stream",
     "text": [
      "<class 'pandas.core.frame.DataFrame'>\n",
      "RangeIndex: 8807 entries, 0 to 8806\n",
      "Data columns (total 12 columns):\n",
      " #   Column        Non-Null Count  Dtype \n",
      "---  ------        --------------  ----- \n",
      " 0   show_id       8807 non-null   object\n",
      " 1   type          8807 non-null   object\n",
      " 2   title         8807 non-null   object\n",
      " 3   director      6173 non-null   object\n",
      " 4   cast          7982 non-null   object\n",
      " 5   country       7976 non-null   object\n",
      " 6   date_added    8797 non-null   object\n",
      " 7   release_year  8807 non-null   int64 \n",
      " 8   rating        8803 non-null   object\n",
      " 9   duration      8804 non-null   object\n",
      " 10  listed_in     8807 non-null   object\n",
      " 11  description   8807 non-null   object\n",
      "dtypes: int64(1), object(11)\n",
      "memory usage: 825.8+ KB\n",
      "None\n"
     ]
    }
   ],
   "source": [
    "print(df.info())"
   ]
  },
  {
   "cell_type": "markdown",
   "id": "0e95f58b-040a-4115-86e5-445657f9f339",
   "metadata": {},
   "source": [
    "** Count null values in each column"
   ]
  },
  {
   "cell_type": "code",
   "execution_count": 17,
   "id": "c07e114e-b526-41b1-a2c2-c24dc526ac8c",
   "metadata": {},
   "outputs": [
    {
     "name": "stdout",
     "output_type": "stream",
     "text": [
      "show_id            0\n",
      "type               0\n",
      "title              0\n",
      "director        2634\n",
      "cast             825\n",
      "country          831\n",
      "date_added        10\n",
      "release_year       0\n",
      "rating             4\n",
      "duration           3\n",
      "listed_in          0\n",
      "description        0\n",
      "dtype: int64\n"
     ]
    }
   ],
   "source": [
    "print(df.isnull().sum())"
   ]
  },
  {
   "cell_type": "markdown",
   "id": "b8254925-9771-44b8-85df-32e772679585",
   "metadata": {},
   "source": [
    "Handling Director, Cast, and Country Column These columns have a large number of missing values. Dropping thousands of rows would destroy our dataset.Since these are categorical fields, we can fill the missing values with a placeholder string like \"Unknown\". This preserves the rows for other analyses and allows us to filter for or ignore \"Unknown\" values later if needed."
   ]
  },
  {
   "cell_type": "code",
   "execution_count": 22,
   "id": "7c629f4a-aeea-4efa-8646-3e4f2b846252",
   "metadata": {},
   "outputs": [
    {
     "data": {
      "text/plain": [
       "0       United States\n",
       "1        South Africa\n",
       "2             Unknown\n",
       "3             Unknown\n",
       "4               India\n",
       "            ...      \n",
       "8802    United States\n",
       "8803          Unknown\n",
       "8804    United States\n",
       "8805    United States\n",
       "8806            India\n",
       "Name: country, Length: 8790, dtype: object"
      ]
     },
     "execution_count": 22,
     "metadata": {},
     "output_type": "execute_result"
    }
   ],
   "source": [
    "df['director'].fillna('Unknown')\n",
    "df['cast'].fillna('Unknown')\n",
    "df['country'].fillna('Unknown')"
   ]
  },
  {
   "cell_type": "markdown",
   "id": "bc7b6973-1a4d-4aad-9b1a-f30ad5d3d9e3",
   "metadata": {},
   "source": [
    "Handling date_added, rating, and duration.These columns have very few missing values (typically < 15). Because these values are essential for specific analyses (time-series, audience targeting, duration analysis) and the number of missing rows is tiny compared to the total dataset size (~0.1%), the simplest and cleanest approach is to drop these rows. The impact on the overall dataset is negligible."
   ]
  },
  {
   "cell_type": "code",
   "execution_count": 23,
   "id": "5c4acecf-f2d4-44f4-9d4e-c7a397d624f0",
   "metadata": {},
   "outputs": [],
   "source": [
    "df.dropna(subset=['date_added', 'rating', 'duration'], inplace=True)"
   ]
  },
  {
   "cell_type": "code",
   "execution_count": 24,
   "id": "bad894dc-e773-47a6-851a-640b68d2c660",
   "metadata": {},
   "outputs": [
    {
     "name": "stdout",
     "output_type": "stream",
     "text": [
      "show_id         0\n",
      "type            0\n",
      "title           0\n",
      "director        0\n",
      "cast            0\n",
      "country         0\n",
      "date_added      0\n",
      "release_year    0\n",
      "rating          0\n",
      "duration        0\n",
      "listed_in       0\n",
      "description     0\n",
      "dtype: int64\n"
     ]
    }
   ],
   "source": [
    "print(df.isnull().sum())"
   ]
  },
  {
   "cell_type": "raw",
   "id": "712cdbe3-a497-45a9-82fe-09c438c728fd",
   "metadata": {},
   "source": [
    "Correcting Data Types and Formats"
   ]
  },
  {
   "cell_type": "markdown",
   "id": "ddd691f4-fc49-42df-a684-f2df76c1acaa",
   "metadata": {},
   "source": [
    "The date_added column is a string, so you can't perform time-based calculations on it.so we convert this into proper datetime object"
   ]
  },
  {
   "cell_type": "code",
   "execution_count": 25,
   "id": "eae8c6b5-c78c-4846-b94c-b484dc2dfc65",
   "metadata": {},
   "outputs": [],
   "source": [
    "df['date_added'] = pd.to_datetime(df['date_added'].str.strip())"
   ]
  },
  {
   "cell_type": "markdown",
   "id": "196b338d-7ca6-4766-83cc-968275b44cc0",
   "metadata": {},
   "source": [
    "Similarly The duration column is messy. It contains \" min\" for movies and \" Season(s)\" for TV shows, all in the same column as strings. It's best to split this into two new numerical columns: one for movie duration in minutes and one for the number of seasons for a TV show. This makes analysis much cleaner.\n"
   ]
  },
  {
   "cell_type": "code",
   "execution_count": 26,
   "id": "69b49885-1a94-42a0-a488-a22390e85616",
   "metadata": {},
   "outputs": [],
   "source": [
    "# Initialize new columns with NaN\n",
    "df['movie_duration_mins'] = np.nan\n",
    "df['tv_show_seasons'] = np.nan\n",
    "\n",
    "# For Movies, extract the number and fill the movie_duration_mins column\n",
    "is_movie = df['type'] == 'Movie'\n",
    "df.loc[is_movie, 'movie_duration_mins'] = df.loc[is_movie, 'duration'].str.replace(' min', '').astype(int)\n",
    "\n",
    "# For TV Shows, extract the number and fill the tv_show_seasons column\n",
    "is_tv_show = df['type'] == 'TV Show'\n",
    "# Use .replace for both ' Season' and ' Seasons'\n",
    "df.loc[is_tv_show, 'tv_show_seasons'] = df.loc[is_tv_show, 'duration'].str.replace(' Seasons', '').str.replace(' Season', '').astype(int)"
   ]
  },
  {
   "cell_type": "markdown",
   "id": "145db3f6-a6d2-42f6-9db2-f18f3985c573",
   "metadata": {},
   "source": [
    "Extract more information from existing columns to aid EDA.\n",
    "\n",
    "Extract Year and Month from date_added"
   ]
  },
  {
   "cell_type": "code",
   "execution_count": 27,
   "id": "e3992d09-59bc-4d6a-89b4-64f1f3b7b4f2",
   "metadata": {},
   "outputs": [],
   "source": [
    "df['year_added'] = df['date_added'].dt.year\n",
    "df['month_added'] = df['date_added'].dt.month"
   ]
  },
  {
   "cell_type": "code",
   "execution_count": 28,
   "id": "6d39fab2-cb8b-485e-a78c-79b36ca19b86",
   "metadata": {},
   "outputs": [
    {
     "name": "stdout",
     "output_type": "stream",
     "text": [
      "<class 'pandas.core.frame.DataFrame'>\n",
      "Index: 8790 entries, 0 to 8806\n",
      "Data columns (total 16 columns):\n",
      " #   Column               Non-Null Count  Dtype         \n",
      "---  ------               --------------  -----         \n",
      " 0   show_id              8790 non-null   object        \n",
      " 1   type                 8790 non-null   object        \n",
      " 2   title                8790 non-null   object        \n",
      " 3   director             8790 non-null   object        \n",
      " 4   cast                 8790 non-null   object        \n",
      " 5   country              8790 non-null   object        \n",
      " 6   date_added           8790 non-null   datetime64[ns]\n",
      " 7   release_year         8790 non-null   int64         \n",
      " 8   rating               8790 non-null   object        \n",
      " 9   duration             8790 non-null   object        \n",
      " 10  listed_in            8790 non-null   object        \n",
      " 11  description          8790 non-null   object        \n",
      " 12  movie_duration_mins  6126 non-null   float64       \n",
      " 13  tv_show_seasons      2664 non-null   float64       \n",
      " 14  year_added           8790 non-null   int32         \n",
      " 15  month_added          8790 non-null   int32         \n",
      "dtypes: datetime64[ns](1), float64(2), int32(2), int64(1), object(10)\n",
      "memory usage: 1.1+ MB\n",
      "None\n"
     ]
    }
   ],
   "source": [
    "print(df.info())"
   ]
  },
  {
   "cell_type": "code",
   "execution_count": 29,
   "id": "84008a33-e533-4236-a9c5-389457f0d09a",
   "metadata": {},
   "outputs": [],
   "source": [
    "df['content_source'] = np.where(df['release_year'] == df['year_added'], 'Original', 'Licensed')"
   ]
  },
  {
   "cell_type": "code",
   "execution_count": 30,
   "id": "1411c75d-7816-4a2e-abac-4fc35f3e8b75",
   "metadata": {},
   "outputs": [
    {
     "name": "stdout",
     "output_type": "stream",
     "text": [
      "<class 'pandas.core.frame.DataFrame'>\n",
      "Index: 8790 entries, 0 to 8806\n",
      "Data columns (total 17 columns):\n",
      " #   Column               Non-Null Count  Dtype         \n",
      "---  ------               --------------  -----         \n",
      " 0   show_id              8790 non-null   object        \n",
      " 1   type                 8790 non-null   object        \n",
      " 2   title                8790 non-null   object        \n",
      " 3   director             8790 non-null   object        \n",
      " 4   cast                 8790 non-null   object        \n",
      " 5   country              8790 non-null   object        \n",
      " 6   date_added           8790 non-null   datetime64[ns]\n",
      " 7   release_year         8790 non-null   int64         \n",
      " 8   rating               8790 non-null   object        \n",
      " 9   duration             8790 non-null   object        \n",
      " 10  listed_in            8790 non-null   object        \n",
      " 11  description          8790 non-null   object        \n",
      " 12  movie_duration_mins  6126 non-null   float64       \n",
      " 13  tv_show_seasons      2664 non-null   float64       \n",
      " 14  year_added           8790 non-null   int32         \n",
      " 15  month_added          8790 non-null   int32         \n",
      " 16  content_source       8790 non-null   object        \n",
      "dtypes: datetime64[ns](1), float64(2), int32(2), int64(1), object(11)\n",
      "memory usage: 1.1+ MB\n",
      "None\n"
     ]
    }
   ],
   "source": [
    "print(df.info())"
   ]
  },
  {
   "cell_type": "markdown",
   "id": "8488f039-cd4c-4dc7-80b0-04ba5d75e3ee",
   "metadata": {},
   "source": [
    "Save the Cleaned Data"
   ]
  },
  {
   "cell_type": "code",
   "execution_count": 31,
   "id": "50bc8a3f-5fed-4055-bdea-d56cde672d1d",
   "metadata": {},
   "outputs": [
    {
     "name": "stdout",
     "output_type": "stream",
     "text": [
      "\n",
      "Cleaned data saved to 'netflix_cleaned.csv'\n"
     ]
    }
   ],
   "source": [
    "df.to_csv('netflix_cleaned.csv', index=False)\n",
    "print(\"\\nCleaned data saved to 'netflix_cleaned.csv'\")"
   ]
  },
  {
   "cell_type": "code",
   "execution_count": null,
   "id": "9dc71e0f-b124-483f-b9d8-85729c31d4c2",
   "metadata": {},
   "outputs": [],
   "source": []
  }
 ],
 "metadata": {
  "kernelspec": {
   "display_name": "Python 3 (ipykernel)",
   "language": "python",
   "name": "python3"
  },
  "language_info": {
   "codemirror_mode": {
    "name": "ipython",
    "version": 3
   },
   "file_extension": ".py",
   "mimetype": "text/x-python",
   "name": "python",
   "nbconvert_exporter": "python",
   "pygments_lexer": "ipython3",
   "version": "3.12.7"
  }
 },
 "nbformat": 4,
 "nbformat_minor": 5
}
